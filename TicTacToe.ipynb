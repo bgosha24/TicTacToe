{
 "cells": [
  {
   "cell_type": "code",
   "execution_count": 139,
   "id": "42a212b1",
   "metadata": {},
   "outputs": [
    {
     "data": {
      "text/plain": [
       "'C:\\\\Users\\\\bgosh\\\\OneDrive\\\\Desktop'"
      ]
     },
     "execution_count": 139,
     "metadata": {},
     "output_type": "execute_result"
    }
   ],
   "source": [
    "import os\n",
    "os.getcwd()"
   ]
  },
  {
   "cell_type": "code",
   "execution_count": 138,
   "id": "506f98a9",
   "metadata": {},
   "outputs": [],
   "source": [
    "os.chdir(os.getcwd()+'\\\\OneDrive\\\\Desktop')"
   ]
  },
  {
   "cell_type": "code",
   "execution_count": null,
   "id": "079a605e",
   "metadata": {},
   "outputs": [],
   "source": [
    "#Need a board to play on"
   ]
  },
  {
   "cell_type": "code",
   "execution_count": 57,
   "id": "02a7b80a",
   "metadata": {},
   "outputs": [],
   "source": [
    "def show_board(board):\n",
    "    \n",
    "    print('   |   |')\n",
    "    print(' ' + board[7] + ' | ' + board[8] + ' | ' + board[9])\n",
    "    print('   |   |')\n",
    "    print('-----------')\n",
    "    print('   |   |')\n",
    "    print(' ' + board[4] + ' | ' + board[5] + ' | ' + board[6])\n",
    "    print('   |   |')\n",
    "    print('-----------')\n",
    "    print('   |   |')\n",
    "    print(' ' + board[1] + ' | ' + board[2] + ' | ' + board[3])\n",
    "    print('   |   |')"
   ]
  },
  {
   "cell_type": "code",
   "execution_count": 25,
   "id": "ba031701",
   "metadata": {},
   "outputs": [],
   "source": [
    "theBoard = [' ']*10"
   ]
  },
  {
   "cell_type": "code",
   "execution_count": 58,
   "id": "8e28b7c1",
   "metadata": {},
   "outputs": [
    {
     "name": "stdout",
     "output_type": "stream",
     "text": [
      "   |   |\n",
      "   |   |  \n",
      "   |   |\n",
      "-----------\n",
      "   |   |\n",
      "   |   |  \n",
      "   |   |\n",
      "-----------\n",
      "   |   |\n",
      "   |   |  \n",
      "   |   |\n"
     ]
    }
   ],
   "source": [
    "show_board(theBoard)"
   ]
  },
  {
   "cell_type": "code",
   "execution_count": 59,
   "id": "53698af7",
   "metadata": {},
   "outputs": [],
   "source": [
    "#Need to create input for players to pick sides"
   ]
  },
  {
   "cell_type": "code",
   "execution_count": 67,
   "id": "2eb2a0ea",
   "metadata": {},
   "outputs": [],
   "source": [
    "def pick_emblem():\n",
    "\n",
    "    emblem = ''\n",
    "    #Ask player for input\n",
    "    while not (emblem =='O' or emblem =='X'):\n",
    "        emblem = input('Which emblem do you want to be X or O?').upper()\n",
    "    #return tuples     \n",
    "    if emblem =='X':\n",
    "        return ('X','O')\n",
    "    else:\n",
    "        return ('O','X')\n",
    "        \n"
   ]
  },
  {
   "cell_type": "code",
   "execution_count": 82,
   "id": "bde77464",
   "metadata": {},
   "outputs": [
    {
     "name": "stdout",
     "output_type": "stream",
     "text": [
      "Which emblem do you want to be X or O?O\n"
     ]
    },
    {
     "data": {
      "text/plain": [
       "('O', 'X')"
      ]
     },
     "execution_count": 82,
     "metadata": {},
     "output_type": "execute_result"
    }
   ],
   "source": [
    "pick_emblem()"
   ]
  },
  {
   "cell_type": "code",
   "execution_count": 83,
   "id": "04662e15",
   "metadata": {},
   "outputs": [],
   "source": [
    "#Need a way to decide who goes first"
   ]
  },
  {
   "cell_type": "code",
   "execution_count": 84,
   "id": "3498d71f",
   "metadata": {},
   "outputs": [],
   "source": [
    "import random\n",
    "\n",
    "def first_pick():\n",
    "    if random.randint(1,2) == 1:\n",
    "        return 'X'\n",
    "    else:\n",
    "        return 'O'"
   ]
  },
  {
   "cell_type": "code",
   "execution_count": 98,
   "id": "2ded160b",
   "metadata": {},
   "outputs": [
    {
     "data": {
      "text/plain": [
       "'X'"
      ]
     },
     "execution_count": 98,
     "metadata": {},
     "output_type": "execute_result"
    }
   ],
   "source": [
    "first_pick()"
   ]
  },
  {
   "cell_type": "code",
   "execution_count": 69,
   "id": "2279e906",
   "metadata": {},
   "outputs": [],
   "source": [
    "#Need to find a way for a player to assign them emblem to a position on the board"
   ]
  },
  {
   "cell_type": "code",
   "execution_count": 70,
   "id": "1a8bc634",
   "metadata": {},
   "outputs": [],
   "source": [
    "def place_emblem(board, emblem, position):\n",
    "    board[position]=emblem"
   ]
  },
  {
   "cell_type": "code",
   "execution_count": 72,
   "id": "ac130ff1",
   "metadata": {},
   "outputs": [
    {
     "name": "stdout",
     "output_type": "stream",
     "text": [
      "   |   |\n",
      "   |   |  \n",
      "   |   |\n",
      "-----------\n",
      "   |   |\n",
      "   | X |  \n",
      "   |   |\n",
      "-----------\n",
      "   |   |\n",
      "   |   |  \n",
      "   |   |\n"
     ]
    }
   ],
   "source": [
    "#test emblem placement\n",
    "\n",
    "place_emblem(theBoard,'X',5)\n",
    "show_board(theBoard)"
   ]
  },
  {
   "cell_type": "code",
   "execution_count": 73,
   "id": "f518ac86",
   "metadata": {},
   "outputs": [],
   "source": [
    "#Need to setup game rules"
   ]
  },
  {
   "cell_type": "code",
   "execution_count": 74,
   "id": "0a6128de",
   "metadata": {},
   "outputs": [],
   "source": [
    "def win_check(board,mark):\n",
    "    \n",
    "    return ((board[7] == mark and board[8] == mark and board[9] == mark) or\n",
    "    (board[4] == mark and board[5] == mark and board[6] == mark) or\n",
    "    (board[1] == mark and board[2] == mark and board[3] == mark) or\n",
    "    (board[7] == mark and board[4] == mark and board[1] == mark) or\n",
    "    (board[8] == mark and board[5] == mark and board[2] == mark) or\n",
    "    (board[9] == mark and board[6] == mark and board[3] == mark) or\n",
    "    (board[7] == mark and board[5] == mark and board[3] == mark) or\n",
    "    (board[9] == mark and board[5] == mark and board[1] == mark)) "
   ]
  },
  {
   "cell_type": "code",
   "execution_count": 75,
   "id": "af1aad47",
   "metadata": {},
   "outputs": [],
   "source": [
    "place_emblem(theBoard,'X',6)"
   ]
  },
  {
   "cell_type": "code",
   "execution_count": 99,
   "id": "8d0b20bc",
   "metadata": {},
   "outputs": [
    {
     "data": {
      "text/plain": [
       "True"
      ]
     },
     "execution_count": 99,
     "metadata": {},
     "output_type": "execute_result"
    }
   ],
   "source": [
    "win_check(theBoard,'X')"
   ]
  },
  {
   "cell_type": "code",
   "execution_count": 77,
   "id": "348d659b",
   "metadata": {},
   "outputs": [],
   "source": [
    "place_emblem(theBoard,'X',4)"
   ]
  },
  {
   "cell_type": "code",
   "execution_count": 79,
   "id": "49870001",
   "metadata": {},
   "outputs": [
    {
     "name": "stdout",
     "output_type": "stream",
     "text": [
      "   |   |\n",
      "   |   |  \n",
      "   |   |\n",
      "-----------\n",
      "   |   |\n",
      " X | X | X\n",
      "   |   |\n",
      "-----------\n",
      "   |   |\n",
      "   |   |  \n",
      "   |   |\n"
     ]
    }
   ],
   "source": [
    "\n",
    "show_board(theBoard)"
   ]
  },
  {
   "cell_type": "code",
   "execution_count": 80,
   "id": "2659750d",
   "metadata": {},
   "outputs": [
    {
     "data": {
      "text/plain": [
       "True"
      ]
     },
     "execution_count": 80,
     "metadata": {},
     "output_type": "execute_result"
    }
   ],
   "source": [
    "win_check(theBoard,'X')"
   ]
  },
  {
   "cell_type": "code",
   "execution_count": 101,
   "id": "dd82dedb",
   "metadata": {},
   "outputs": [],
   "source": [
    "#Need to see if a position on the board is available or not"
   ]
  },
  {
   "cell_type": "code",
   "execution_count": 102,
   "id": "fc18ef21",
   "metadata": {},
   "outputs": [],
   "source": [
    "def position_check(board, position):\n",
    "    return board[position]== ' '    "
   ]
  },
  {
   "cell_type": "code",
   "execution_count": 104,
   "id": "da47e4ed",
   "metadata": {},
   "outputs": [
    {
     "data": {
      "text/plain": [
       "True"
      ]
     },
     "execution_count": 104,
     "metadata": {},
     "output_type": "execute_result"
    }
   ],
   "source": [
    "position_check(theBoard,1)"
   ]
  },
  {
   "cell_type": "code",
   "execution_count": 105,
   "id": "a129ad5a",
   "metadata": {},
   "outputs": [
    {
     "data": {
      "text/plain": [
       "False"
      ]
     },
     "execution_count": 105,
     "metadata": {},
     "output_type": "execute_result"
    }
   ],
   "source": [
    "position_check(theBoard,5)"
   ]
  },
  {
   "cell_type": "code",
   "execution_count": 110,
   "id": "26706496",
   "metadata": {},
   "outputs": [],
   "source": [
    "#Need a way to ask for the next position a player wants to place their emblem"
   ]
  },
  {
   "cell_type": "code",
   "execution_count": 113,
   "id": "4053a07c",
   "metadata": {},
   "outputs": [],
   "source": [
    "def next_position(board):\n",
    "    position = 0\n",
    "    \n",
    "    while position not in [1,2,3,4,5,6,7,8,9,10] or not position_check(board, position):\n",
    "        position = int(input('Choose your next position: (1-9)'))\n",
    "    \n",
    "    return position"
   ]
  },
  {
   "cell_type": "code",
   "execution_count": 114,
   "id": "5454da64",
   "metadata": {},
   "outputs": [],
   "source": [
    "#Need a way to check if the board is full which would mean the game ends in a tie"
   ]
  },
  {
   "cell_type": "code",
   "execution_count": 120,
   "id": "33e4234e",
   "metadata": {},
   "outputs": [],
   "source": [
    "def full_board_check(board):\n",
    "    for i in range(1,10):\n",
    "        if position_check(board, i):\n",
    "            return False\n",
    "    return True"
   ]
  },
  {
   "cell_type": "code",
   "execution_count": 116,
   "id": "0b303448",
   "metadata": {},
   "outputs": [
    {
     "name": "stdout",
     "output_type": "stream",
     "text": [
      "Choose your next position: (1-9)9\n"
     ]
    },
    {
     "data": {
      "text/plain": [
       "9"
      ]
     },
     "execution_count": 116,
     "metadata": {},
     "output_type": "execute_result"
    }
   ],
   "source": [
    "next_position(theBoard)"
   ]
  },
  {
   "cell_type": "code",
   "execution_count": 131,
   "id": "0ee9903c",
   "metadata": {},
   "outputs": [],
   "source": [
    "def play_again():\n",
    "    return input('Play again? Y or N: ').lower().startswith('y')"
   ]
  },
  {
   "cell_type": "code",
   "execution_count": 134,
   "id": "125d1724",
   "metadata": {},
   "outputs": [
    {
     "name": "stdout",
     "output_type": "stream",
     "text": [
      "Welcome to TicTacToe!\n",
      "Which emblem do you want to be X or O?X\n",
      "\n",
      "O will go first.\n",
      "Are you ready to play? Enter Yes or No.Yes\n",
      "Player2's turn\n",
      "   |   |\n",
      "   |   |  \n",
      "   |   |\n",
      "-----------\n",
      "   |   |\n",
      "   |   |  \n",
      "   |   |\n",
      "-----------\n",
      "   |   |\n",
      "   |   |  \n",
      "   |   |\n",
      "Choose your next position: (1-9)1\n",
      "Player1's turn\n",
      "   |   |\n",
      "   |   |  \n",
      "   |   |\n",
      "-----------\n",
      "   |   |\n",
      "   |   |  \n",
      "   |   |\n",
      "-----------\n",
      "   |   |\n",
      " O |   |  \n",
      "   |   |\n",
      "Choose your next position: (1-9)2\n",
      "Player2's turn\n",
      "   |   |\n",
      "   |   |  \n",
      "   |   |\n",
      "-----------\n",
      "   |   |\n",
      "   |   |  \n",
      "   |   |\n",
      "-----------\n",
      "   |   |\n",
      " O | X |  \n",
      "   |   |\n",
      "Choose your next position: (1-9)3\n",
      "Player1's turn\n",
      "   |   |\n",
      "   |   |  \n",
      "   |   |\n",
      "-----------\n",
      "   |   |\n",
      "   |   |  \n",
      "   |   |\n",
      "-----------\n",
      "   |   |\n",
      " O | X | O\n",
      "   |   |\n",
      "Choose your next position: (1-9)4\n",
      "Player2's turn\n",
      "   |   |\n",
      "   |   |  \n",
      "   |   |\n",
      "-----------\n",
      "   |   |\n",
      " X |   |  \n",
      "   |   |\n",
      "-----------\n",
      "   |   |\n",
      " O | X | O\n",
      "   |   |\n",
      "Choose your next position: (1-9)5\n",
      "Player1's turn\n",
      "   |   |\n",
      "   |   |  \n",
      "   |   |\n",
      "-----------\n",
      "   |   |\n",
      " X | O |  \n",
      "   |   |\n",
      "-----------\n",
      "   |   |\n",
      " O | X | O\n",
      "   |   |\n",
      "Choose your next position: (1-9)6\n",
      "Player2's turn\n",
      "   |   |\n",
      "   |   |  \n",
      "   |   |\n",
      "-----------\n",
      "   |   |\n",
      " X | O | X\n",
      "   |   |\n",
      "-----------\n",
      "   |   |\n",
      " O | X | O\n",
      "   |   |\n",
      "Choose your next position: (1-9)7\n",
      "   |   |\n",
      " O |   |  \n",
      "   |   |\n",
      "-----------\n",
      "   |   |\n",
      " X | O | X\n",
      "   |   |\n",
      "-----------\n",
      "   |   |\n",
      " O | X | O\n",
      "   |   |\n",
      "Player2 has won!\n",
      "Play again? Y or N: 8\n",
      "\n",
      "Thanks for playing!\n"
     ]
    }
   ],
   "source": [
    "print('Welcome to TicTacToe!')\n",
    "\n",
    "while True:\n",
    "    # Clear the board\n",
    "    theBoard = [' '] * 10\n",
    "    player1_emblem, player2_emblem = pick_emblem()\n",
    "    turn = first_pick()\n",
    "    print('\\n' + turn + ' will go first.')\n",
    "    \n",
    "    ready_check = input('Are you ready to play? Enter Yes or No.')\n",
    "    \n",
    "    if ready_check.lower()[0] == 'y':\n",
    "        game_on = True\n",
    "    else:\n",
    "        game_on = False\n",
    "\n",
    "    while game_on:\n",
    "        if turn == 'Player 1':\n",
    "            # Player1's turn.\n",
    "            print(\"Player1's turn\")\n",
    "            show_board(theBoard)\n",
    "            position = next_position(theBoard)\n",
    "            place_emblem(theBoard, player1_emblem, position)\n",
    "\n",
    "            if win_check(theBoard, player1_emblem):\n",
    "                show_board(theBoard)\n",
    "                print('Player1 has won!')\n",
    "                game_on = False\n",
    "            else:\n",
    "                if full_board_check(theBoard):\n",
    "                    show_board(theBoard)\n",
    "                    print('The game is a draw!')\n",
    "                    break\n",
    "                else:\n",
    "                    turn = 'Player 2'\n",
    "\n",
    "        else:\n",
    "            # Player2's turn.\n",
    "            print(\"Player2's turn\")\n",
    "            show_board(theBoard)\n",
    "            position = next_position(theBoard)\n",
    "            place_emblem(theBoard, player2_emblem, position)\n",
    "\n",
    "            if win_check(theBoard, player2_emblem):\n",
    "                show_board(theBoard)\n",
    "                print('Player2 has won!')\n",
    "                game_on = False\n",
    "            else:\n",
    "                if full_board_check(theBoard):\n",
    "                    show_board(theBoard)\n",
    "                    print('The game is a draw!')\n",
    "                    break\n",
    "                else:\n",
    "                    turn = 'Player 1'\n",
    "\n",
    "    if not play_again():\n",
    "        print('\\nThanks for playing!')\n",
    "        break"
   ]
  }
 ],
 "metadata": {
  "kernelspec": {
   "display_name": "Python 3 (ipykernel)",
   "language": "python",
   "name": "python3"
  },
  "language_info": {
   "codemirror_mode": {
    "name": "ipython",
    "version": 3
   },
   "file_extension": ".py",
   "mimetype": "text/x-python",
   "name": "python",
   "nbconvert_exporter": "python",
   "pygments_lexer": "ipython3",
   "version": "3.9.7"
  }
 },
 "nbformat": 4,
 "nbformat_minor": 5
}
